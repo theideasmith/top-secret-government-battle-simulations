{
 "cells": [
  {
   "cell_type": "markdown",
   "metadata": {},
   "source": [
    "This code aims to computationally study the statistics of risk in order to develop better strategies and beat the brothers at the game. Before beginning a computational study, it is advantegeous to develop the mathematical theory. \n",
    "\n",
    "In a classical risk offensive, an attacking army attempts to annhilate a defending army through a series of dice rolls which affect updates to the number of live armsmen on the attacking and defending sides. Thus any risk battle can be represented as a set ordered by the integers of the number of armsmen belonging to each side at each discrete iteration step. Define $H = \\{ (M_{A,i}, M_{D,i}): i \\in [1,T] \\}$ where $i$ is an integer, $H$ is a battle history, $M_{A,i}, M{D,i}$ are the number of armsmen belonging to the attacker and defender respectively at each discrete step in the battle. \n",
    "\n",
    "To develop a theory of strategy we must first investigate the probabalistic dynamics of a battle. Specifically, we will begin by studying the distribution over outcomes when an attacker and defender both use only a single die. \n",
    "\n",
    "Let $d_A$ and $d_D$ be realizations of the attacking and defending dice, whose distributions are uniform over the integers $1$ through $6$. $\\mathcal{P}(d_A) = \\mathcal{P}(d_D) = \\frac{1}{6}$. The defender is said to win if $d>=a$. This amounts to $$\\frac{1}{2}\\sum\\limits_{n=1}^6 n = \\frac{6^2 + 6}{2} = 21$$ outcomes of a total of $6^2$ outcomes. Thus the probability of the defender winning $p_D = \\mathcal{P}(d \\ge a) = \\frac{21}{36} \\approx .58$. Then $p_A = 1-p_d = .42$\n",
    "\n",
    "It should seem that defender has the probabalistic advantage. However, the probabalistic dynamics become far more interesting when a multiplicity of dice are used by the attacker and defender. In fact, the dice configuration has far more impact on the resulting probabality distributions than does the decision rule for the outcome of a single dice comparison. Suppose $n_A = 3$ dice are used by the attacker and $n_D = 2$ dice are used by the defender. We are interested in deriving distribution over the number of losses for the attacker and the defender. Note that the total number of outcomes in this situation $$T(n_A, n_D) = (6^{n_A})\\times(6^{n_D}) = 7776$$. \n",
    "\n",
    "Now, let the losses for attacker $A$ and defender $D$ be denoted by $l_A, l_D$ respectively. There is a bijection between loses for $A$ and for $D$, so it is only necessary to consider one side, either that of the attacker or of the defender. \n",
    "\n",
    "1. $\\mathcal{P}(l_A = 1) = \\mathcal{P}(l_D = 1)$\n",
    "2. $\\mathcal{P}(l_A = 2) = \\mathcal{P}(l_D = 0)$\n",
    "3. $\\mathcal{P}(l_A = 0) = \\mathcal{P}(l_D = 2)$\n",
    "\n",
    "(2) can be restated as asking for the probability all of the attacking dice are larger than all of the defending dice. \n",
    "\n",
    "$$\\mathcal{P}(\\ \\min d_A > \\max d_D) = \\frac{3!2!}{T}\\sum\\limits^6_{i=1}\\sum^i_{j=1}\\left(j-1\\right)^3 $$\n",
    "\n",
    "\n",
    "\n",
    "\n",
    "In particular, when a die of an attacker and defender are compared, if the value of the defending die is greater than or equal to the value of the attacking die then the attacker \n",
    "\n"
   ]
  },
  {
   "cell_type": "code",
   "execution_count": 132,
   "metadata": {
    "collapsed": false
   },
   "outputs": [],
   "source": [
    "def ran(n):\n",
    "    return range(1,n+1)\n",
    "\n",
    "def isall(func, arr):\n",
    "    return sum(map(func, arr)) > 0\n",
    "\n",
    "def isgreater(val):\n",
    "    return lambda x: x>val\n",
    "\n",
    "def isless(val):\n",
    "    return lambda x: x<val"
   ]
  },
  {
   "cell_type": "markdown",
   "metadata": {},
   "source": [
    "## Case 3: Attacker Loses 0, Defender Loses 2"
   ]
  },
  {
   "cell_type": "code",
   "execution_count": 133,
   "metadata": {
    "collapsed": false
   },
   "outputs": [
    {
     "data": {
      "text/plain": [
       "0.06648662551440329"
      ]
     },
     "execution_count": 133,
     "metadata": {},
     "output_type": "execute_result"
    }
   ],
   "source": [
    "from __future__ import division\n",
    "n3 = 0\n",
    "T = 7776\n",
    "for i in ran(6):\n",
    "    for j in ran(6):\n",
    "        for k in ran(6):\n",
    "            for l in ran(6):\n",
    "                for w in ran(6):\n",
    "                    if min([i,j,k]) > max([l,w]): n3+=1\n",
    "p3 = n3/T\n",
    "p3"
   ]
  },
  {
   "cell_type": "code",
   "execution_count": 134,
   "metadata": {
    "collapsed": false
   },
   "outputs": [
    {
     "data": {
      "text/plain": [
       "[0, 1, 2, 3]"
      ]
     },
     "execution_count": 134,
     "metadata": {},
     "output_type": "execute_result"
    }
   ],
   "source": [
    "range(6-2)"
   ]
  },
  {
   "cell_type": "markdown",
   "metadata": {},
   "source": [
    "## Case 2: Attacker Loses 2, Defender Loses 0"
   ]
  },
  {
   "cell_type": "code",
   "execution_count": 135,
   "metadata": {
    "collapsed": false
   },
   "outputs": [
    {
     "data": {
      "text/plain": [
       "0.15213477366255143"
      ]
     },
     "execution_count": 135,
     "metadata": {},
     "output_type": "execute_result"
    }
   ],
   "source": [
    "n2=0\n",
    "T = 7776\n",
    "for i in ran(6):\n",
    "    for j in ran(6):\n",
    "        for k in ran(6):\n",
    "            for l in ran(6):\n",
    "                for w in ran(6):\n",
    "                    if max([i,j,k]) <= min([l,w]): n2+=1\n",
    "p2 = n2/T\n",
    "p2"
   ]
  },
  {
   "cell_type": "markdown",
   "metadata": {},
   "source": [
    "## Case 1: Attacker Loses 1, Defender Loses 1"
   ]
  },
  {
   "cell_type": "code",
   "execution_count": 136,
   "metadata": {
    "collapsed": false
   },
   "outputs": [
    {
     "data": {
      "text/plain": [
       "0.7813786008230452"
      ]
     },
     "execution_count": 136,
     "metadata": {},
     "output_type": "execute_result"
    }
   ],
   "source": [
    "p1 = 1-p2-p3\n",
    "p1"
   ]
  },
  {
   "cell_type": "markdown",
   "metadata": {},
   "source": [
    "## Expected Loss of Attacker"
   ]
  },
  {
   "cell_type": "code",
   "execution_count": 137,
   "metadata": {
    "collapsed": false
   },
   "outputs": [
    {
     "data": {
      "text/plain": [
       "-1.0856481481481481"
      ]
     },
     "execution_count": 137,
     "metadata": {},
     "output_type": "execute_result"
    }
   ],
   "source": [
    "xs = np.array([0,1,2])*(-1)\n",
    "ps = np.array([p3, p1, p2])\n",
    "mu = (xs*ps).sum()\n",
    "mu"
   ]
  },
  {
   "cell_type": "markdown",
   "metadata": {},
   "source": [
    "## Expected Loss of Defender"
   ]
  },
  {
   "cell_type": "code",
   "execution_count": 138,
   "metadata": {
    "collapsed": false
   },
   "outputs": [
    {
     "data": {
      "text/plain": [
       "-0.91435185185185186"
      ]
     },
     "execution_count": 138,
     "metadata": {},
     "output_type": "execute_result"
    }
   ],
   "source": [
    "xs = np.array([0,1,2])*(-1)\n",
    "ps = np.array([p2, p1, p3])\n",
    "mu = (xs*ps).sum()\n",
    "mu"
   ]
  },
  {
   "cell_type": "markdown",
   "metadata": {},
   "source": [
    "\n",
    "First we'll setup a dice class to abstract the dice rolling"
   ]
  },
  {
   "cell_type": "code",
   "execution_count": 144,
   "metadata": {
    "collapsed": true
   },
   "outputs": [],
   "source": [
    "import random\n",
    "import numpy as np\n",
    "import numpy.ma as ma\n",
    "import matplotlib.pyplot as plt\n",
    "\n",
    "class Dice:\n",
    "    def __init__(self, dicemax, ndice):\n",
    "        self.dicemax = dicemax\n",
    "        self.ndice = ndice\n",
    "        self.initial_ndice = ndice\n",
    "        self.inital_dicemax = dicemax\n",
    "\n",
    "    def roll(self):\n",
    "        dice = []\n",
    "        for i in range(self.ndice):\n",
    "            dice.append(random.randint(1,self.dicemax))\n",
    "        return sorted(dice, reverse=True)\n",
    "\n",
    "    def reset(self):\n",
    "        self.ndice = self.initial_ndice\n",
    "        self.dicemax = self.inital_dicemax"
   ]
  },
  {
   "cell_type": "markdown",
   "metadata": {},
   "source": [
    "Next, a player class to abstract the logic of the attacker and defender"
   ]
  },
  {
   "cell_type": "code",
   "execution_count": 145,
   "metadata": {
    "collapsed": true
   },
   "outputs": [],
   "source": [
    "class Player:\n",
    "    # Then players can subclass to implement different strategies\n",
    "    def __init__(self, dice, number_of_people):\n",
    "        self.dice = dice\n",
    "        self.npeople = number_of_people\n",
    "        self.initial_people = number_of_people\n",
    "\n",
    "    def roll(self):\n",
    "        return self.dice.roll()\n",
    "\n",
    "    def ready(self, opponent):\n",
    "        return True\n",
    "\n",
    "    def reset(self):\n",
    "        self.npeople = self.initial_people\n",
    "        self.dice.reset()\n",
    "\n",
    "class Attacker(Player):\n",
    "    def roll(self):\n",
    "        if self.npeople in [3,2]:\n",
    "            self.dice.ndice=2\n",
    "        if self.npeople ==1:\n",
    "            self.dice.ndice=1\n",
    "        return Player.roll(self)\n",
    "\n",
    "    def ready(self, opponent):\n",
    "        return self.npeople > 1\n",
    "\n",
    "class Defender(Player):\n",
    "    def ready(self, opponent):\n",
    "        return self.npeople > 0\n"
   ]
  },
  {
   "cell_type": "markdown",
   "metadata": {},
   "source": [
    "Finally, an interface to simulating a face off between two armies, here dubbed an *offensive*:"
   ]
  },
  {
   "cell_type": "code",
   "execution_count": 146,
   "metadata": {
    "collapsed": true
   },
   "outputs": [],
   "source": [
    "class Offensive:\n",
    "    def __init__(self, attacker, defender, toprint=False):\n",
    "        self.a = attacker\n",
    "        self.d = defender\n",
    "        self.toprint = toprint\n",
    "        self.niter = 0\n",
    "        self.menA = []\n",
    "        self.menD = []\n",
    "\n",
    "    def extension(self,rollA, rollD):\n",
    "        return np.array([0,0])\n",
    "\n",
    "    def compareDice(self, diceA, diceD):\n",
    "        if diceA > diceD:\n",
    "            return (0,-1)\n",
    "        elif diceA <= diceD:\n",
    "            return (-1,0)\n",
    "\n",
    "    def standardBattleContract(self, rolla, rolld):\n",
    "        minind = min(len(rolla), len(rolld))\n",
    "        aligneda = rolla[:minind]\n",
    "        alignedd = rolld[:minind]\n",
    "        contract = map(\n",
    "            lambda x: self.compareDice(*x),\n",
    "            zip(aligneda, alignedd))\n",
    "        lossA = 0\n",
    "        lossD = 0\n",
    "        for c in contract:\n",
    "            lossA += c[0]\n",
    "            lossD += c[1]\n",
    "        return np.array([lossA, lossD])\n",
    "\n",
    "    def show(self, loss, rolla, rolld):\n",
    "        lossA, lossD = loss\n",
    "        print \"Dice: \"\n",
    "        print \"A: {}\".format(rolla)\n",
    "        print \"D: {}\".format(rolld)\n",
    "        print \"   +++   \"\n",
    "        print \"Loss: \"\n",
    "        print \"A: {}\".format(lossA)\n",
    "        print \"B: {}\".format(lossD)\n",
    "        print \"   +++   \"\n",
    "        print \"Men:\"\n",
    "        print \"A: {}\".format(self.a.npeople)\n",
    "        print \"D: {}\".format(self.d.npeople)\n",
    "        print \"------------------\"\n",
    "\n",
    "    def didWin(self):\n",
    "        return self.d.npeople==0\n",
    "\n",
    "    def canIterate(self):\n",
    "        can= self.a.ready(self.d) and self.d.ready(self.a)\n",
    "        return can\n",
    "\n",
    "    def iterate(self):\n",
    "        rolld = self.d.roll()\n",
    "        rolla = self.a.roll()\n",
    "        loss = self.extension(rolla, rolld) \\\n",
    "                + self.standardBattleContract(rolla, rolld)\n",
    "        self.a.npeople += loss[0]\n",
    "        self.d.npeople += loss[1]\n",
    "        if self.toprint:\n",
    "            self.show(loss, rolla,rolld)\n",
    "        self.menA.append(self.a.npeople)\n",
    "        self.menD.append(self.d.npeople)\n",
    "        self.niter+=1\n",
    "\n",
    "    def reset(self):\n",
    "        self.a.reset()\n",
    "        self.d.reset()\n",
    "        self.niter = 0\n",
    "        self.menA = []\n",
    "        self.menD = []\n",
    "\n",
    "    def simulate(self):\n",
    "        while self.canIterate():\n",
    "            self.iterate()\n",
    "\n",
    "        return self.a.npeople, self.d.npeople"
   ]
  },
  {
   "cell_type": "markdown",
   "metadata": {},
   "source": [
    "We invented some custom rules in my house, so we'll add them here"
   ]
  },
  {
   "cell_type": "code",
   "execution_count": 147,
   "metadata": {
    "collapsed": true
   },
   "outputs": [],
   "source": [
    "class LipshitzianOffensive(Offensive):\n",
    "    def extension(self, rollA, rollD):\n",
    "        allgreater = min(rollD) >= max(rollA)\n",
    "        if allgreater:\n",
    "            return np.array([-1,0])\n",
    "        else:\n",
    "            return np.array([0,0])"
   ]
  },
  {
   "cell_type": "markdown",
   "metadata": {},
   "source": [
    "Finally we can simulate"
   ]
  },
  {
   "cell_type": "code",
   "execution_count": 148,
   "metadata": {
    "collapsed": true
   },
   "outputs": [],
   "source": [
    "T = 100\n",
    "battle = LipshitzianOffensive(\n",
    "    Attacker(Dice(6,3), 70),\n",
    "    Defender(Dice(6,2), 60),\n",
    "    toprint=False)\n",
    "\n",
    "resA = []\n",
    "resD = []\n",
    "histA = []\n",
    "histD = []\n",
    "for i in range(T):\n",
    "    ra, rd = battle.simulate()\n",
    "    histA.append(battle.menA)\n",
    "    histD.append(battle.menD)\n",
    "    resA.append(ra)\n",
    "    resD.append(rd)\n",
    "    battle.reset()"
   ]
  },
  {
   "cell_type": "code",
   "execution_count": 149,
   "metadata": {
    "collapsed": true
   },
   "outputs": [],
   "source": [
    "histmatA = np.zeros((T, max(map(len, histA)) ))*np.nan\n",
    "histmatD = np.zeros((T, max(map(len, histD)) ))*np.nan\n",
    "for i in xrange(T):\n",
    "    histmatA[i,:len(histA[i])] = histA[i]\n",
    "    histmatD[i, :len(histD[i])] = histD[i]\n",
    "histmatA = ma.array(histmatA, mask=np.isnan(histmatA))\n",
    "histmatD = ma.array(histmatD, mask=np.isnan(histmatD))\n",
    "\n",
    "muA = ma.mean(histmatA, axis=0)\n",
    "muD = ma.mean(histmatD, axis=0)\n",
    "sigmaA = ma.std(histmatA, axis=0)\n",
    "sigmaD = ma.std(histmatD, axis=0)\n",
    "t = np.arange(muA.shape[0])"
   ]
  },
  {
   "cell_type": "code",
   "execution_count": 151,
   "metadata": {
    "collapsed": false
   },
   "outputs": [
    {
     "data": {
      "image/png": "[encoded data removed]",
      "text/plain": [
       "<matplotlib.figure.Figure at 0x113f4d190>"
      ]
     },
     "metadata": {},
     "output_type": "display_data"
    },
    {
     "data": {
      "image/png": "[encoded data removed]",
      "text/plain": [
       "<matplotlib.figure.Figure at 0x10ea01950>"
      ]
     },
     "metadata": {},
     "output_type": "display_data"
    }
   ],
   "source": [
    "import matplotlib.pyplot as plt\n",
    "import numpy as np\n",
    "%matplotlib inline\n",
    "\n",
    "pointWin = np.argwhere(muD==0)\n",
    "fig, ax = plt.subplots(1, figsize=(20,20))\n",
    "ax.plot(t, muA, lw=2, label='mean trajectory attacker', color='blue')\n",
    "ax.plot(t, muD, lw=2, label='mean trajectory defender', color='red')\n",
    "ax.fill_between(t, muA+sigmaA, muA-sigmaA, facecolor='blue', alpha=0.5)\n",
    "ax.fill_between(t, muD+sigmaD, muD-sigmaD, facecolor='red', alpha=0.5)\n",
    "\n",
    "ax.set_title(\"Npeople trajectories for Offensive\")\n",
    "ax.legend(loc='lower left')\n",
    "ax.set_xlabel(\"Time [iterations]\")\n",
    "ax.set_ylabel(\"Number of men\")\n",
    "plt.savefig(\"./npeople_trajectories.png\")\n",
    "resA = np.array(resA)\n",
    "resD = np.array(resD)\n",
    "\n",
    "plt.figure(figsize=(20,10))\n",
    "plt.hist2d(resA, resD, alpha=.6, normed=True, bins=[50,50])\n",
    "plt.colorbar()\n",
    "plt.ylabel(\"Defender\")\n",
    "plt.title(\"Distribution of Attack Outcomes for 1000 Runs\")\n",
    "plt.xlabel(\"Attacker\")\n",
    "plt.savefig(\"./results.png\")"
   ]
  },
  {
   "cell_type": "code",
   "execution_count": 16,
   "metadata": {
    "collapsed": true
   },
   "outputs": [],
   "source": [
    "import networkx as nx"
   ]
  },
  {
   "cell_type": "code",
   "execution_count": 17,
   "metadata": {
    "collapsed": true
   },
   "outputs": [],
   "source": [
    "class Board(nx.Graph):\n",
    "    def edge(a, b):\n",
    "        self.add_edge(a,b)\n",
    "        return self\n",
    "board = Board()"
   ]
  },
  {
   "cell_type": "code",
   "execution_count": 18,
   "metadata": {
    "collapsed": true
   },
   "outputs": [],
   "source": [
    "Map = {\n",
    "    \"North America\":[\n",
    "        \"Alaska\",\n",
    "        \"Northwestern Territory\",\n",
    "        \"Alberta\",\n",
    "        \"Ontario\",\n",
    "        \"Eastern Canada\",\n",
    "        \"Western United States\",\n",
    "        \"Eastern United States\",\n",
    "        \"Central America\",\n",
    "        \"Greenland\"],\n",
    "    \"South America\":[\n",
    "        \"Venezuela\",\n",
    "        \"Brazil\",\n",
    "        \"Peru\",\n",
    "        \"Argentina\"],\n",
    "    \"Europe\":[\n",
    "        \"Iceland\",\n",
    "        \"Great Britain\",\n",
    "        \"Western Europe\",\n",
    "        \"Scandinavia\",\n",
    "        \"Northern Europe\",\n",
    "        \"Southern Europe\",\n",
    "        \"Russia\"],\n",
    "    \"Africa\":[\n",
    "        \"North Africa\",\n",
    "        \"Egypt\",\n",
    "        \"East Africa\",\n",
    "        \"Central Africa\",\n",
    "        \"South Africa\",\n",
    "        \"Madagascar\"],\n",
    "    \"Asia\":[\n",
    "        \"Ural\",\n",
    "        \"Afghanistan\",\n",
    "        \"Middle East\",\n",
    "        \"India\",\n",
    "        \"Southern Asia\",\n",
    "        \"China\",\n",
    "        \"Mongolia\",\n",
    "        \"Irkutsk\",\n",
    "        \"Siberia\",\n",
    "        \"Yakutsk\",\n",
    "        \"Kamachatka\",\n",
    "        \"Japan\"],\n",
    "    \"Australia\":[\n",
    "        \"Indonesia\",\n",
    "        \"New Guinea\",\n",
    "        \"Western Australia\",\n",
    "        \"Eastern Australia\"\n",
    "        ]\n",
    "}"
   ]
  },
  {
   "cell_type": "code",
   "execution_count": 4,
   "metadata": {
    "collapsed": false
   },
   "outputs": [
    {
     "name": "stdout",
     "output_type": "stream",
     "text": [
      "Europe: 7 countries\n",
      "Australia: 4 countries\n",
      "Africa: 6 countries\n",
      "Asia: 12 countries\n",
      "North America: 9 countries\n",
      "South America: 4 countries\n"
     ]
    }
   ],
   "source": [
    "for k, v in Map.iteritems():\n",
    "    print \"{}: {} countries\".format(k,len(v))\n",
    "    map(board.add_node, v)"
   ]
  },
  {
   "cell_type": "code",
   "execution_count": null,
   "metadata": {
    "collapsed": true
   },
   "outputs": [],
   "source": []
  }
 ],
 "metadata": {
  "kernelspec": {
   "display_name": "Python 2",
   "language": "python",
   "name": "python2"
  },
  "language_info": {
   "codemirror_mode": {
    "name": "ipython",
    "version": 2
   },
   "file_extension": ".py",
   "mimetype": "text/x-python",
   "name": "python",
   "nbconvert_exporter": "python",
   "pygments_lexer": "ipython2",
   "version": "2.7.13"
  }
 },
 "nbformat": 4,
 "nbformat_minor": 2
}
